{
 "cells": [
  {
   "cell_type": "code",
   "execution_count": null,
   "id": "b2a04b4b",
   "metadata": {},
   "outputs": [],
   "source": []
  },
  {
   "cell_type": "markdown",
   "id": "de24d101",
   "metadata": {},
   "source": [
    "### GENERATOR -- IT IS USED TO GENERATE SEQUENCE OF NUMBERS\n",
    "### only single element generate at one time and then to make new the previous one will get distroy.\n",
    "\n",
    "### YIELD -- KEYWORD WE USE TO MAKE GANERATOR,,yield only used in generator\n",
    "### YIELD WILL RETURN THE ELEMENT WHICH WE HAVE SPECIFY IT /GENERATE THE ELEMENT\n",
    "\n",
    "### use = 1]to  operate hudge amount of row iterate\n",
    "###           2]to read files line by line\n",
    "###           3] memory efficient"
   ]
  },
  {
   "cell_type": "code",
   "execution_count": null,
   "id": "9fad6057",
   "metadata": {},
   "outputs": [],
   "source": []
  },
  {
   "cell_type": "code",
   "execution_count": 28,
   "id": "0cb3220b",
   "metadata": {},
   "outputs": [],
   "source": [
    "def temp():\n",
    "    yield 'a'"
   ]
  },
  {
   "cell_type": "code",
   "execution_count": 29,
   "id": "2bd4adf6",
   "metadata": {},
   "outputs": [],
   "source": [
    "r = temp()"
   ]
  },
  {
   "cell_type": "code",
   "execution_count": 31,
   "id": "4aaae066",
   "metadata": {},
   "outputs": [
    {
     "data": {
      "text/plain": [
       "generator"
      ]
     },
     "execution_count": 31,
     "metadata": {},
     "output_type": "execute_result"
    }
   ],
   "source": [
    "type(r)"
   ]
  },
  {
   "cell_type": "code",
   "execution_count": 32,
   "id": "a3d66476",
   "metadata": {},
   "outputs": [
    {
     "data": {
      "text/plain": [
       "'a'"
      ]
     },
     "execution_count": 32,
     "metadata": {},
     "output_type": "execute_result"
    }
   ],
   "source": [
    "next(r)"
   ]
  },
  {
   "cell_type": "code",
   "execution_count": 33,
   "id": "7519f31f",
   "metadata": {},
   "outputs": [
    {
     "ename": "StopIteration",
     "evalue": "",
     "output_type": "error",
     "traceback": [
      "\u001b[1;31m---------------------------------------------------------------------------\u001b[0m",
      "\u001b[1;31mStopIteration\u001b[0m                             Traceback (most recent call last)",
      "Input \u001b[1;32mIn [33]\u001b[0m, in \u001b[0;36m<cell line: 1>\u001b[1;34m()\u001b[0m\n\u001b[1;32m----> 1\u001b[0m \u001b[38;5;28;43mnext\u001b[39;49m\u001b[43m(\u001b[49m\u001b[43mr\u001b[49m\u001b[43m)\u001b[49m\n",
      "\u001b[1;31mStopIteration\u001b[0m: "
     ]
    }
   ],
   "source": [
    "next(r)"
   ]
  },
  {
   "cell_type": "code",
   "execution_count": null,
   "id": "4a3c8736",
   "metadata": {},
   "outputs": [],
   "source": []
  },
  {
   "cell_type": "code",
   "execution_count": 17,
   "id": "1f86bc28",
   "metadata": {},
   "outputs": [],
   "source": [
    "def rushi(n):\n",
    "    i=0\n",
    "    \n",
    "    while i<=n:\n",
    "        yield i\n",
    "        i = i + 1\n",
    "        "
   ]
  },
  {
   "cell_type": "code",
   "execution_count": null,
   "id": "f50943c9",
   "metadata": {},
   "outputs": [],
   "source": []
  },
  {
   "cell_type": "code",
   "execution_count": 19,
   "id": "3a0ff0e8",
   "metadata": {},
   "outputs": [],
   "source": [
    "obj = rushi(10)"
   ]
  },
  {
   "cell_type": "code",
   "execution_count": 20,
   "id": "0c6aadaa",
   "metadata": {},
   "outputs": [
    {
     "name": "stdout",
     "output_type": "stream",
     "text": [
      "0\n",
      "1\n",
      "2\n",
      "3\n",
      "4\n",
      "5\n",
      "6\n",
      "7\n",
      "8\n",
      "9\n",
      "10\n"
     ]
    }
   ],
   "source": [
    "for i in obj:\n",
    "    print(i)"
   ]
  },
  {
   "cell_type": "code",
   "execution_count": 22,
   "id": "3110fa4e",
   "metadata": {},
   "outputs": [
    {
     "ename": "StopIteration",
     "evalue": "",
     "output_type": "error",
     "traceback": [
      "\u001b[1;31m---------------------------------------------------------------------------\u001b[0m",
      "\u001b[1;31mStopIteration\u001b[0m                             Traceback (most recent call last)",
      "Input \u001b[1;32mIn [22]\u001b[0m, in \u001b[0;36m<cell line: 1>\u001b[1;34m()\u001b[0m\n\u001b[1;32m----> 1\u001b[0m \u001b[38;5;28;43mnext\u001b[39;49m\u001b[43m(\u001b[49m\u001b[43mobj\u001b[49m\u001b[43m)\u001b[49m\n",
      "\u001b[1;31mStopIteration\u001b[0m: "
     ]
    }
   ],
   "source": [
    "next(obj)"
   ]
  },
  {
   "cell_type": "code",
   "execution_count": 10,
   "id": "66fd1b47",
   "metadata": {},
   "outputs": [],
   "source": [
    "def Raj(n):\n",
    "    i = 0\n",
    "    \n",
    "    while i<=n:\n",
    "        yield i\n",
    "        i = i + 1"
   ]
  },
  {
   "cell_type": "code",
   "execution_count": 11,
   "id": "14fe0bce",
   "metadata": {},
   "outputs": [],
   "source": [
    "rushi = Raj(20)"
   ]
  },
  {
   "cell_type": "code",
   "execution_count": 12,
   "id": "9f83a75f",
   "metadata": {},
   "outputs": [
    {
     "data": {
      "text/plain": [
       "0"
      ]
     },
     "execution_count": 12,
     "metadata": {},
     "output_type": "execute_result"
    }
   ],
   "source": [
    "next(rushi)"
   ]
  },
  {
   "cell_type": "code",
   "execution_count": 13,
   "id": "22c40ea6",
   "metadata": {},
   "outputs": [
    {
     "data": {
      "text/plain": [
       "1"
      ]
     },
     "execution_count": 13,
     "metadata": {},
     "output_type": "execute_result"
    }
   ],
   "source": [
    "next(rushi)"
   ]
  },
  {
   "cell_type": "code",
   "execution_count": 14,
   "id": "3c13c418",
   "metadata": {},
   "outputs": [
    {
     "data": {
      "text/plain": [
       "2"
      ]
     },
     "execution_count": 14,
     "metadata": {},
     "output_type": "execute_result"
    }
   ],
   "source": [
    "next(rushi)"
   ]
  },
  {
   "cell_type": "code",
   "execution_count": 15,
   "id": "d9df6bd4",
   "metadata": {},
   "outputs": [
    {
     "name": "stdout",
     "output_type": "stream",
     "text": [
      "3\n",
      "4\n",
      "5\n",
      "6\n",
      "7\n",
      "8\n",
      "9\n",
      "10\n",
      "11\n",
      "12\n",
      "13\n",
      "14\n",
      "15\n",
      "16\n",
      "17\n",
      "18\n",
      "19\n",
      "20\n"
     ]
    }
   ],
   "source": [
    "for i in rushi:\n",
    "    print(i)"
   ]
  },
  {
   "cell_type": "code",
   "execution_count": 16,
   "id": "312818d7",
   "metadata": {},
   "outputs": [],
   "source": [
    "def r1(n):\n",
    "    i = 0\n",
    "    while i<=n:\n",
    "        yield i\n",
    "        i = i + 1"
   ]
  },
  {
   "cell_type": "code",
   "execution_count": 17,
   "id": "2a9614df",
   "metadata": {},
   "outputs": [],
   "source": [
    "r2 = r1(10)"
   ]
  },
  {
   "cell_type": "code",
   "execution_count": 18,
   "id": "6d65019b",
   "metadata": {},
   "outputs": [
    {
     "data": {
      "text/plain": [
       "generator"
      ]
     },
     "execution_count": 18,
     "metadata": {},
     "output_type": "execute_result"
    }
   ],
   "source": [
    "type(r2)"
   ]
  },
  {
   "cell_type": "code",
   "execution_count": 19,
   "id": "440048f3",
   "metadata": {},
   "outputs": [
    {
     "data": {
      "text/plain": [
       "0"
      ]
     },
     "execution_count": 19,
     "metadata": {},
     "output_type": "execute_result"
    }
   ],
   "source": [
    "next(r2)"
   ]
  },
  {
   "cell_type": "code",
   "execution_count": 20,
   "id": "12d7e55b",
   "metadata": {},
   "outputs": [
    {
     "data": {
      "text/plain": [
       "1"
      ]
     },
     "execution_count": 20,
     "metadata": {},
     "output_type": "execute_result"
    }
   ],
   "source": [
    "next(r2)"
   ]
  },
  {
   "cell_type": "code",
   "execution_count": 21,
   "id": "63cd4021",
   "metadata": {},
   "outputs": [
    {
     "name": "stdout",
     "output_type": "stream",
     "text": [
      "2\n",
      "3\n",
      "4\n",
      "5\n",
      "6\n",
      "7\n",
      "8\n",
      "9\n",
      "10\n"
     ]
    }
   ],
   "source": [
    "for i in r2:\n",
    "    print(i)"
   ]
  },
  {
   "cell_type": "markdown",
   "id": "41a3c8d7",
   "metadata": {},
   "source": [
    "### ITERATOR APPLIED ON SEQ [  LIST,TUPLE,SET]\n",
    "### next is a method\n",
    "### iterator is wrapper on extisting data structure"
   ]
  },
  {
   "cell_type": "code",
   "execution_count": 27,
   "id": "8a7d75bb",
   "metadata": {},
   "outputs": [],
   "source": [
    "P = [1,2,3,4,5,6]"
   ]
  },
  {
   "cell_type": "code",
   "execution_count": 29,
   "id": "086a8622",
   "metadata": {},
   "outputs": [],
   "source": [
    "obj = iter(P)"
   ]
  },
  {
   "cell_type": "code",
   "execution_count": 30,
   "id": "42331d98",
   "metadata": {},
   "outputs": [
    {
     "data": {
      "text/plain": [
       "1"
      ]
     },
     "execution_count": 30,
     "metadata": {},
     "output_type": "execute_result"
    }
   ],
   "source": [
    "next(obj)"
   ]
  },
  {
   "cell_type": "code",
   "execution_count": 31,
   "id": "4dc56df7",
   "metadata": {},
   "outputs": [
    {
     "data": {
      "text/plain": [
       "2"
      ]
     },
     "execution_count": 31,
     "metadata": {},
     "output_type": "execute_result"
    }
   ],
   "source": [
    "next(obj)"
   ]
  },
  {
   "cell_type": "code",
   "execution_count": 32,
   "id": "ae47e403",
   "metadata": {},
   "outputs": [
    {
     "name": "stdout",
     "output_type": "stream",
     "text": [
      "3\n",
      "4\n",
      "5\n",
      "6\n"
     ]
    }
   ],
   "source": [
    "for i in obj:\n",
    "    print(i)"
   ]
  },
  {
   "cell_type": "code",
   "execution_count": 1,
   "id": "1665d8fb",
   "metadata": {},
   "outputs": [],
   "source": [
    "r1 = ('rishi','rajii','swapnil','visha','viju')"
   ]
  },
  {
   "cell_type": "code",
   "execution_count": 2,
   "id": "3087821e",
   "metadata": {},
   "outputs": [],
   "source": [
    "r2 = iter(r1)"
   ]
  },
  {
   "cell_type": "code",
   "execution_count": 3,
   "id": "646a6197",
   "metadata": {},
   "outputs": [
    {
     "data": {
      "text/plain": [
       "tuple_iterator"
      ]
     },
     "execution_count": 3,
     "metadata": {},
     "output_type": "execute_result"
    }
   ],
   "source": [
    "type(r2)"
   ]
  },
  {
   "cell_type": "code",
   "execution_count": 4,
   "id": "8f9340f7",
   "metadata": {},
   "outputs": [
    {
     "data": {
      "text/plain": [
       "'rishi'"
      ]
     },
     "execution_count": 4,
     "metadata": {},
     "output_type": "execute_result"
    }
   ],
   "source": [
    "next(r2)"
   ]
  },
  {
   "cell_type": "code",
   "execution_count": 5,
   "id": "312f1c4b",
   "metadata": {},
   "outputs": [
    {
     "data": {
      "text/plain": [
       "'rajii'"
      ]
     },
     "execution_count": 5,
     "metadata": {},
     "output_type": "execute_result"
    }
   ],
   "source": [
    "next(r2)"
   ]
  },
  {
   "cell_type": "code",
   "execution_count": 6,
   "id": "170bce26",
   "metadata": {},
   "outputs": [
    {
     "data": {
      "text/plain": [
       "'swapnil'"
      ]
     },
     "execution_count": 6,
     "metadata": {},
     "output_type": "execute_result"
    }
   ],
   "source": [
    "next(r2)"
   ]
  },
  {
   "cell_type": "code",
   "execution_count": 7,
   "id": "ed694651",
   "metadata": {},
   "outputs": [
    {
     "name": "stdout",
     "output_type": "stream",
     "text": [
      "visha\n",
      "viju\n"
     ]
    }
   ],
   "source": [
    "for i in r2:\n",
    "    print(i)"
   ]
  },
  {
   "cell_type": "code",
   "execution_count": 8,
   "id": "f1d54500",
   "metadata": {},
   "outputs": [],
   "source": [
    "## ganerator"
   ]
  },
  {
   "cell_type": "code",
   "execution_count": 29,
   "id": "3ed69701",
   "metadata": {},
   "outputs": [],
   "source": [
    " def temp2(n):\n",
    "        z = 0\n",
    "        while z<=n:\n",
    "            yield z\n",
    "            z = z + 1"
   ]
  },
  {
   "cell_type": "code",
   "execution_count": 30,
   "id": "19fc7255",
   "metadata": {},
   "outputs": [],
   "source": [
    "obj2 = temp2(10)"
   ]
  },
  {
   "cell_type": "code",
   "execution_count": 31,
   "id": "a8f8fc2f",
   "metadata": {},
   "outputs": [
    {
     "data": {
      "text/plain": [
       "0"
      ]
     },
     "execution_count": 31,
     "metadata": {},
     "output_type": "execute_result"
    }
   ],
   "source": [
    "next(obj2)"
   ]
  },
  {
   "cell_type": "code",
   "execution_count": 32,
   "id": "92a08ce5",
   "metadata": {},
   "outputs": [
    {
     "data": {
      "text/plain": [
       "1"
      ]
     },
     "execution_count": 32,
     "metadata": {},
     "output_type": "execute_result"
    }
   ],
   "source": [
    "next(obj2)"
   ]
  },
  {
   "cell_type": "code",
   "execution_count": 33,
   "id": "1fd8c69d",
   "metadata": {},
   "outputs": [
    {
     "data": {
      "text/plain": [
       "2"
      ]
     },
     "execution_count": 33,
     "metadata": {},
     "output_type": "execute_result"
    }
   ],
   "source": [
    "next(obj2)"
   ]
  },
  {
   "cell_type": "code",
   "execution_count": 34,
   "id": "5ea2fd9d",
   "metadata": {},
   "outputs": [
    {
     "data": {
      "text/plain": [
       "3"
      ]
     },
     "execution_count": 34,
     "metadata": {},
     "output_type": "execute_result"
    }
   ],
   "source": [
    "next(obj2)"
   ]
  },
  {
   "cell_type": "code",
   "execution_count": 35,
   "id": "ad4276cf",
   "metadata": {},
   "outputs": [
    {
     "name": "stdout",
     "output_type": "stream",
     "text": [
      "4\n",
      "5\n",
      "6\n",
      "7\n",
      "8\n",
      "9\n",
      "10\n"
     ]
    }
   ],
   "source": [
    "for i in obj2:\n",
    "    print(i)"
   ]
  },
  {
   "cell_type": "code",
   "execution_count": 36,
   "id": "f2e43dc9",
   "metadata": {},
   "outputs": [],
   "source": [
    "u = [1,2,3,4,5,6,7]"
   ]
  },
  {
   "cell_type": "code",
   "execution_count": 37,
   "id": "d19537f7",
   "metadata": {},
   "outputs": [],
   "source": [
    " r = iter(u)"
   ]
  },
  {
   "cell_type": "code",
   "execution_count": 38,
   "id": "b20b07a7",
   "metadata": {},
   "outputs": [
    {
     "data": {
      "text/plain": [
       "1"
      ]
     },
     "execution_count": 38,
     "metadata": {},
     "output_type": "execute_result"
    }
   ],
   "source": [
    "next(r)"
   ]
  },
  {
   "cell_type": "code",
   "execution_count": 39,
   "id": "cb2a06fa",
   "metadata": {},
   "outputs": [
    {
     "data": {
      "text/plain": [
       "2"
      ]
     },
     "execution_count": 39,
     "metadata": {},
     "output_type": "execute_result"
    }
   ],
   "source": [
    "next(r)"
   ]
  },
  {
   "cell_type": "code",
   "execution_count": 40,
   "id": "f1c3b4b3",
   "metadata": {},
   "outputs": [
    {
     "name": "stdout",
     "output_type": "stream",
     "text": [
      "3\n",
      "4\n",
      "5\n",
      "6\n",
      "7\n"
     ]
    }
   ],
   "source": [
    "for i in r:\n",
    "    print(i)"
   ]
  },
  {
   "cell_type": "code",
   "execution_count": 41,
   "id": "013583cb",
   "metadata": {},
   "outputs": [],
   "source": [
    "z = [100,200,366,788,455,98,355,534,634]"
   ]
  },
  {
   "cell_type": "code",
   "execution_count": 57,
   "id": "e1b9c8b1",
   "metadata": {},
   "outputs": [],
   "source": [
    "def temp3(z): \n",
    "    i = 0\n",
    "    while i<=z:\n",
    "        yield i\n",
    "        i = i + 1"
   ]
  },
  {
   "cell_type": "code",
   "execution_count": 58,
   "id": "fefcae0b",
   "metadata": {},
   "outputs": [],
   "source": [
    "obj = temp3"
   ]
  },
  {
   "cell_type": "code",
   "execution_count": 59,
   "id": "d7b37bf6",
   "metadata": {},
   "outputs": [
    {
     "ename": "TypeError",
     "evalue": "'function' object is not an iterator",
     "output_type": "error",
     "traceback": [
      "\u001b[1;31m---------------------------------------------------------------------------\u001b[0m",
      "\u001b[1;31mTypeError\u001b[0m                                 Traceback (most recent call last)",
      "Input \u001b[1;32mIn [59]\u001b[0m, in \u001b[0;36m<cell line: 1>\u001b[1;34m()\u001b[0m\n\u001b[1;32m----> 1\u001b[0m \u001b[38;5;28;43mnext\u001b[39;49m\u001b[43m(\u001b[49m\u001b[43mobj\u001b[49m\u001b[43m)\u001b[49m\n",
      "\u001b[1;31mTypeError\u001b[0m: 'function' object is not an iterator"
     ]
    }
   ],
   "source": [
    "next(obj)"
   ]
  },
  {
   "cell_type": "code",
   "execution_count": null,
   "id": "c9f7025d",
   "metadata": {},
   "outputs": [],
   "source": []
  }
 ],
 "metadata": {
  "kernelspec": {
   "display_name": "Python 3 (ipykernel)",
   "language": "python",
   "name": "python3"
  },
  "language_info": {
   "codemirror_mode": {
    "name": "ipython",
    "version": 3
   },
   "file_extension": ".py",
   "mimetype": "text/x-python",
   "name": "python",
   "nbconvert_exporter": "python",
   "pygments_lexer": "ipython3",
   "version": "3.9.12"
  }
 },
 "nbformat": 4,
 "nbformat_minor": 5
}
